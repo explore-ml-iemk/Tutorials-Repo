{
  "nbformat": 4,
  "nbformat_minor": 0,
  "metadata": {
    "colab": {
      "name": "Numpy Notebook.ipynb",
      "provenance": [],
      "collapsed_sections": [],
      "toc_visible": true
    },
    "kernelspec": {
      "name": "python3",
      "display_name": "Python 3"
    },
    "language_info": {
      "name": "python"
    }
  },
  "cells": [
    {
      "cell_type": "markdown",
      "metadata": {
        "id": "jkB4c2sFR4qo"
      },
      "source": [
        "# **Numpy**\n"
      ]
    },
    {
      "cell_type": "markdown",
      "metadata": {
        "id": "g798uXpWZQLn"
      },
      "source": [
        "###**What is Numpy?**"
      ]
    },
    {
      "cell_type": "markdown",
      "metadata": {
        "id": "OS3ClcNsU9k1"
      },
      "source": [
        "=> Numpy is a Python library or fundamental package, which is used for working with arrays. We can perform many scientific computiation on those arrays and also it is 5-100 times faster than traditional Python lists. Numpy is short for Numerical Python.\n",
        "\n",
        "Numpy in partially written in python but for fast calculation most of its codes are written in C or C++.\n",
        "\n",
        "Numpy provides\n",
        "  1. An array object of arbitrary homogeneous items\n",
        "  2. Fast mathematical operations over arrays\n",
        "  3. Linear Algebra, Fourier Transforms, Random Number Generation\n",
        "\n",
        "\n",
        "---\n",
        "\n"
      ]
    },
    {
      "cell_type": "markdown",
      "metadata": {
        "id": "qR1UrEFYZLHW"
      },
      "source": [
        "### **How to create basic arrays using Numpy?**"
      ]
    },
    {
      "cell_type": "markdown",
      "metadata": {
        "id": "YEUFfcTLaS-x"
      },
      "source": [
        "=>First we need to import the Numpy library to work with it. We can create Numpy ndarray object using array() function."
      ]
    },
    {
      "cell_type": "code",
      "metadata": {
        "colab": {
          "base_uri": "https://localhost:8080/"
        },
        "id": "h_W8hVsNbtp9",
        "outputId": "f5907cf9-9204-4586-d26e-261861f637b0"
      },
      "source": [
        "#Creating a Numpy array\n",
        "\n",
        "#Import the Library\n",
        "import numpy as np\n",
        "\n",
        "arr = np.array([1,2,3]) \n",
        "\n",
        "# This will print single dimensional array\n",
        "print(arr)"
      ],
      "execution_count": null,
      "outputs": [
        {
          "output_type": "stream",
          "text": [
            "[1 2 3]\n"
          ],
          "name": "stdout"
        }
      ]
    },
    {
      "cell_type": "markdown",
      "metadata": {
        "id": "cE8lHIjDi99l"
      },
      "source": [
        "We can pass list, tuple or array-like object in the array() method to create an ndarray."
      ]
    },
    {
      "cell_type": "code",
      "metadata": {
        "colab": {
          "base_uri": "https://localhost:8080/"
        },
        "id": "C4fhmBprjpwE",
        "outputId": "6e9da286-6726-42ad-f6ff-1d1e7ce1c03a"
      },
      "source": [
        "import numpy as np\n",
        "\n",
        "tup=(5,6,7,8)                  # Tuple\n",
        "arr_tup=np.array(tup)          # Passing tuple in array function\n",
        "\n",
        "print(arr_tup)                 # This will print 1-D array"
      ],
      "execution_count": null,
      "outputs": [
        {
          "output_type": "stream",
          "text": [
            "[5 6 7 8]\n"
          ],
          "name": "stdout"
        }
      ]
    },
    {
      "cell_type": "markdown",
      "metadata": {
        "id": "vkTaVujGlOIh"
      },
      "source": [
        "We  can create array filled with zeros or ones."
      ]
    },
    {
      "cell_type": "code",
      "metadata": {
        "colab": {
          "base_uri": "https://localhost:8080/"
        },
        "id": "HZ9wOdUKlYb_",
        "outputId": "0f616088-da82-4ec9-9199-f8b6f80e7d10"
      },
      "source": [
        "import numpy as np\n",
        "\n",
        "arr_0=np.zeros(4) # Using np.zeros() we can create an array of zeros. Here 4 is the number of elements (zeros)\n",
        "arr_1=np.ones(7)  # Using np.ones() we can create an array of ones. Here 7 is the number of elements (ones)\n",
        "\n",
        "print(arr_0)\n",
        "print(arr_1)"
      ],
      "execution_count": null,
      "outputs": [
        {
          "output_type": "stream",
          "text": [
            "[0. 0. 0. 0.]\n",
            "[1. 1. 1. 1. 1. 1. 1.]\n"
          ],
          "name": "stdout"
        }
      ]
    },
    {
      "cell_type": "markdown",
      "metadata": {
        "id": "xXgKj9jcmnnF"
      },
      "source": [
        "We can create an array with a range of elements with the help of np.arange() function. We can also specify the first number, last number and step size."
      ]
    },
    {
      "cell_type": "code",
      "metadata": {
        "colab": {
          "base_uri": "https://localhost:8080/"
        },
        "id": "DUCXv08imx1i",
        "outputId": "d1352fb1-567f-454d-8016-a2b178b450f4"
      },
      "source": [
        "import numpy as np\n",
        "\n",
        "arr_1=np.arange(7)      # This will create an array starting from 0 to 6\n",
        "arr_2=np.arange(2,9,2)  # This will create an array [2,4,6,8] as the starting point=2, ending point=9, step size=2\n",
        "\n",
        "print(arr_1)\n",
        "print(arr_2)"
      ],
      "execution_count": null,
      "outputs": [
        {
          "output_type": "stream",
          "text": [
            "[0 1 2 3 4 5 6]\n",
            "[2 4 6 8]\n"
          ],
          "name": "stdout"
        }
      ]
    },
    {
      "cell_type": "markdown",
      "metadata": {
        "id": "Y8qbSenDnI6t"
      },
      "source": [
        "We can also use np.linspace() to create an array with values that are spaced linearly in a specified interval."
      ]
    },
    {
      "cell_type": "code",
      "metadata": {
        "id": "ygDaGK1joN29"
      },
      "source": [
        "import numpy as np\n",
        "arr=np.linspace(0, 10, num=5)     # This will create an array between the range 0 to 10 and there is 65 elements in this range."
      ],
      "execution_count": null,
      "outputs": []
    },
    {
      "cell_type": "markdown",
      "metadata": {
        "id": "4I-HfHASlNZF"
      },
      "source": [
        "\n",
        "\n",
        "---\n",
        "\n",
        "\n"
      ]
    },
    {
      "cell_type": "markdown",
      "metadata": {
        "id": "UE-9bNaTrzel"
      },
      "source": [
        "###**Sorting and Concatenation of Array Elements**"
      ]
    },
    {
      "cell_type": "markdown",
      "metadata": {
        "id": "ZEK7M3tSr74G"
      },
      "source": [
        "Sorting :"
      ]
    },
    {
      "cell_type": "markdown",
      "metadata": {
        "id": "cgD_AGoassv-"
      },
      "source": [
        "We can sort elements of numpy array using np.sort() function."
      ]
    },
    {
      "cell_type": "code",
      "metadata": {
        "colab": {
          "base_uri": "https://localhost:8080/"
        },
        "id": "dLUfN36RsQ-w",
        "outputId": "b47b481e-cb50-437b-9096-67d60cf48f0e"
      },
      "source": [
        "import numpy as np\n",
        "\n",
        "arr=np.array([8,4,9,5,1,0,6,2,3,7])  # Unsorted array\n",
        "\n",
        "print(arr)                           # Printing Unsorted Array\n",
        "\n",
        "arr_sorted = np.sort(arr)            # Array Sorting\n",
        "\n",
        "print(arr_sorted)                    # Printing Sorted Array"
      ],
      "execution_count": null,
      "outputs": [
        {
          "output_type": "stream",
          "text": [
            "[8 4 9 5 1 0 6 2 3 7]\n",
            "[0 1 2 3 4 5 6 7 8 9]\n"
          ],
          "name": "stdout"
        }
      ]
    },
    {
      "cell_type": "markdown",
      "metadata": {
        "id": "yJFtpo-xtnux"
      },
      "source": [
        "Concatenation :"
      ]
    },
    {
      "cell_type": "markdown",
      "metadata": {
        "id": "lzz67-8wtqdJ"
      },
      "source": [
        "We can concatenate arrays using the np.concatenate() function."
      ]
    },
    {
      "cell_type": "code",
      "metadata": {
        "colab": {
          "base_uri": "https://localhost:8080/"
        },
        "id": "6JuU1i4OuNBU",
        "outputId": "6f0b3c02-5b0f-4b0f-ffff-cd2c765b5675"
      },
      "source": [
        "import numpy as np\n",
        "\n",
        "a = np.array([1, 2, 3, 4])\n",
        "b = np.array([5, 6, 7, 8])\n",
        "\n",
        "c=np.concatenate((a, b))\n",
        "\n",
        "print(c)"
      ],
      "execution_count": null,
      "outputs": [
        {
          "output_type": "stream",
          "text": [
            "[1 2 3 4 5 6 7 8]\n"
          ],
          "name": "stdout"
        }
      ]
    },
    {
      "cell_type": "markdown",
      "metadata": {
        "id": "gnDRQDXnr6MN"
      },
      "source": [
        "\n",
        "\n",
        "---\n",
        "\n"
      ]
    },
    {
      "cell_type": "markdown",
      "metadata": {
        "id": "WQfGoo4rlVne"
      },
      "source": [
        "### **Dimensions of Arrays**"
      ]
    },
    {
      "cell_type": "markdown",
      "metadata": {
        "id": "2cvzAIPckUwE"
      },
      "source": [
        "Arrays can be of different dimensions."
      ]
    },
    {
      "cell_type": "markdown",
      "metadata": {
        "id": "KMdW6uXClDTX"
      },
      "source": [
        "0-Dimensional Array:"
      ]
    },
    {
      "cell_type": "code",
      "metadata": {
        "colab": {
          "base_uri": "https://localhost:8080/"
        },
        "id": "PwMlrcNylKNu",
        "outputId": "3f419509-b7b0-4c4e-a274-7ac7a80f9d14"
      },
      "source": [
        "import numpy as np\n",
        "\n",
        "arr = np.array(10)\n",
        "\n",
        "print(arr)"
      ],
      "execution_count": null,
      "outputs": [
        {
          "output_type": "stream",
          "text": [
            "10\n"
          ],
          "name": "stdout"
        }
      ]
    },
    {
      "cell_type": "markdown",
      "metadata": {
        "id": "YzDZmxjhljXN"
      },
      "source": [
        "1-Dimensional Array:"
      ]
    },
    {
      "cell_type": "code",
      "metadata": {
        "colab": {
          "base_uri": "https://localhost:8080/"
        },
        "id": "qrM8k76klmux",
        "outputId": "e49b9f38-14c3-45da-a7a2-712dd5eaaa9a"
      },
      "source": [
        "import numpy as np\n",
        "\n",
        "arr = np.array([1, 2, 3, 4, 5])\n",
        "\n",
        "print(arr)"
      ],
      "execution_count": null,
      "outputs": [
        {
          "output_type": "stream",
          "text": [
            "[1 2 3 4 5]\n"
          ],
          "name": "stdout"
        }
      ]
    },
    {
      "cell_type": "markdown",
      "metadata": {
        "id": "eUf9UzmLls3-"
      },
      "source": [
        "2-Dimensional Array:"
      ]
    },
    {
      "cell_type": "code",
      "metadata": {
        "colab": {
          "base_uri": "https://localhost:8080/"
        },
        "id": "oiZ2MxBalw3A",
        "outputId": "a9aa3a99-cfea-407f-d255-ae0639313250"
      },
      "source": [
        "import numpy as np\n",
        "\n",
        "arr = np.array([[1, 2, 3], [4, 5, 6]])    # We need to pass two lists separated by a comma to create a 2-D array\n",
        "\n",
        "print(arr)"
      ],
      "execution_count": null,
      "outputs": [
        {
          "output_type": "stream",
          "text": [
            "[[1 2 3]\n",
            " [4 5 6]]\n"
          ],
          "name": "stdout"
        }
      ]
    },
    {
      "cell_type": "markdown",
      "metadata": {
        "id": "rLx3GcQwmKr_"
      },
      "source": [
        "3-Dimensional Array:"
      ]
    },
    {
      "cell_type": "code",
      "metadata": {
        "colab": {
          "base_uri": "https://localhost:8080/"
        },
        "id": "J9iA6g7smgfI",
        "outputId": "e51d9421-3559-4bea-c7ef-440e9ef9a775"
      },
      "source": [
        "import numpy as np\n",
        "\n",
        "arr = np.array([[[1, 2, 3], [4, 5, 6]], [[1, 2, 3], [4, 5, 6]]])\n",
        "\n",
        "print(arr)"
      ],
      "execution_count": null,
      "outputs": [
        {
          "output_type": "stream",
          "text": [
            "[[[1 2 3]\n",
            "  [4 5 6]]\n",
            "\n",
            " [[1 2 3]\n",
            "  [4 5 6]]]\n"
          ],
          "name": "stdout"
        }
      ]
    },
    {
      "cell_type": "markdown",
      "metadata": {
        "id": "G9DkBGeknkb5"
      },
      "source": [
        "Higher Dimensional Array:"
      ]
    },
    {
      "cell_type": "markdown",
      "metadata": {
        "id": "rm-fBvv-nn9q"
      },
      "source": [
        "We can create higher dimensional arrays by spcifying number of dimensions using ndmin arguement."
      ]
    },
    {
      "cell_type": "code",
      "metadata": {
        "colab": {
          "base_uri": "https://localhost:8080/"
        },
        "id": "4Us_XZQZnQUI",
        "outputId": "a5038026-47fb-4db3-bb2f-616e7fe40702"
      },
      "source": [
        "import numpy as np\n",
        "\n",
        "arr = np.array([1, 2, 3, 4], ndmin=5)         # Defining array dimension\n",
        "\n",
        "print(arr)                                    #Printing the array\n",
        "\n",
        "print('Number of dimensions :', arr.ndim)     # Printing array dimensions"
      ],
      "execution_count": null,
      "outputs": [
        {
          "output_type": "stream",
          "text": [
            "[[[[[1 2 3 4]]]]]\n",
            "Number of dimensions : 5\n"
          ],
          "name": "stdout"
        }
      ]
    },
    {
      "cell_type": "markdown",
      "metadata": {
        "id": "DqMFoRu5ux2r"
      },
      "source": [
        "\n",
        "\n",
        "---\n",
        "\n"
      ]
    },
    {
      "cell_type": "markdown",
      "metadata": {
        "id": "_Anjv2biupV7"
      },
      "source": [
        "### **Array Size and Shape**"
      ]
    },
    {
      "cell_type": "markdown",
      "metadata": {
        "id": "mfhtCdW3u0GU"
      },
      "source": [
        "ndarray.size will tell us the total number of elements of the array. This is the product of the elements of the array’s shape.\n",
        "\n",
        "ndarray.shape will display a tuple of integers that indicate the number of elements stored along each dimension of the array."
      ]
    },
    {
      "cell_type": "code",
      "metadata": {
        "colab": {
          "base_uri": "https://localhost:8080/"
        },
        "id": "JEVC71tzvM8P",
        "outputId": "2a5ded27-6156-47a0-b2b7-dfd62a346032"
      },
      "source": [
        "import numpy as np\n",
        "\n",
        "arr=np.array([[1,2,3],[4,5,6]])\n",
        "\n",
        "print(arr)\n",
        "print(\"Size of the array : \",arr.size)\n",
        "print(\"Shape of the array : \",arr.shape)"
      ],
      "execution_count": null,
      "outputs": [
        {
          "output_type": "stream",
          "text": [
            "[[1 2 3]\n",
            " [4 5 6]]\n",
            "Size of the array :  6\n",
            "Shape of the array :  (2, 3)\n"
          ],
          "name": "stdout"
        }
      ]
    },
    {
      "cell_type": "markdown",
      "metadata": {
        "id": "qYWKiXf3zVJ8"
      },
      "source": [
        "\n",
        "\n",
        "---\n",
        "\n"
      ]
    },
    {
      "cell_type": "markdown",
      "metadata": {
        "id": "jyxoftvJ1vpE"
      },
      "source": [
        "###**Array Reshape**"
      ]
    },
    {
      "cell_type": "markdown",
      "metadata": {
        "id": "PNH13mZ-125P"
      },
      "source": [
        "Using arr.reshape() will give a new shape to an array without changing the data. We need to remember that when we are using the reshape method, the array we want to produce needs to have the same number of elements as the original array."
      ]
    },
    {
      "cell_type": "code",
      "metadata": {
        "colab": {
          "base_uri": "https://localhost:8080/"
        },
        "id": "crQG31iJ2Zj1",
        "outputId": "153894ad-a680-414f-8ef5-0c479a56d035"
      },
      "source": [
        "import numpy as np\n",
        "\n",
        "a=np.array([1,2,3,4,5,6]) # 1-D array\n",
        "\n",
        "print(a)\n",
        "\n",
        "b=a.reshape(2,3) # 2-D Array. The command will be like - arr_name.reshape(no. of rows, no. of columns)\n",
        "\n",
        "print(b)"
      ],
      "execution_count": null,
      "outputs": [
        {
          "output_type": "stream",
          "text": [
            "[1 2 3 4 5 6]\n",
            "[[1 2 3]\n",
            " [4 5 6]]\n"
          ],
          "name": "stdout"
        }
      ]
    },
    {
      "cell_type": "markdown",
      "metadata": {
        "id": "Ln3mhttZ1st7"
      },
      "source": [
        "\n",
        "\n",
        "---\n",
        "\n"
      ]
    },
    {
      "cell_type": "markdown",
      "metadata": {
        "id": "qqd4DUJenv8K"
      },
      "source": [
        "### **Array Indexing**"
      ]
    },
    {
      "cell_type": "markdown",
      "metadata": {
        "id": "b2948EPyn-VT"
      },
      "source": [
        "We can access the elements of numpy array through indexes."
      ]
    },
    {
      "cell_type": "markdown",
      "metadata": {
        "id": "QKKV8aS3pFFP"
      },
      "source": [
        "For 1-D array:"
      ]
    },
    {
      "cell_type": "code",
      "metadata": {
        "colab": {
          "base_uri": "https://localhost:8080/"
        },
        "id": "soT8EiBjn89b",
        "outputId": "f6077142-33fa-474c-f6b0-d820c0ee9f5a"
      },
      "source": [
        "#Accessing 1-D array elements using indexes\n",
        " \n",
        "import numpy as np\n",
        "\n",
        "arr = np.array([11, 22, 33, 44])\n",
        "\n",
        "#Printing the array element at index 2\n",
        "print(arr[2])"
      ],
      "execution_count": null,
      "outputs": [
        {
          "output_type": "stream",
          "text": [
            "33\n"
          ],
          "name": "stdout"
        }
      ]
    },
    {
      "cell_type": "markdown",
      "metadata": {
        "id": "rhn-E96hpJc3"
      },
      "source": [
        "For 2-D array:"
      ]
    },
    {
      "cell_type": "markdown",
      "metadata": {
        "id": "frIvWqiopLX0"
      },
      "source": [
        "We can use comma separated integers representing the dimension and the index of the element.We can use this style of array indexing in higher order array indexing. For instance, in the case of 3-D array it will be like arr[0,1,2]."
      ]
    },
    {
      "cell_type": "code",
      "metadata": {
        "colab": {
          "base_uri": "https://localhost:8080/"
        },
        "id": "ZpYulXvRoqzd",
        "outputId": "c5ed7e81-0dbb-4843-ec8a-ab114fb364aa"
      },
      "source": [
        "# Accessing 2-D array elements using indexes\n",
        "\n",
        "import numpy as np\n",
        "\n",
        "arr = np.array([[1,2,3,4,5], [6,7,8,9,10]])\n",
        "\n",
        "print('4th element on 1st dim: ', arr[0, 3]) \n",
        "print('3th element on 2nd dim: ', arr[1, 2]) "
      ],
      "execution_count": null,
      "outputs": [
        {
          "output_type": "stream",
          "text": [
            "4th element on 1st dim:  4\n",
            "3th element on 2nd dim:  8\n"
          ],
          "name": "stdout"
        }
      ]
    },
    {
      "cell_type": "markdown",
      "metadata": {
        "id": "7WU5C7ofqga5"
      },
      "source": [
        "Negative Indexing:"
      ]
    },
    {
      "cell_type": "code",
      "metadata": {
        "id": "zYw1ckNUqkIQ"
      },
      "source": [
        "import numpy as np\n",
        "\n",
        "arr = np.array([[1,2,3,4,5], [6,7,8,9,10]])\n",
        "\n",
        "print('Last element from 2nd dim: ', arr[1, -1])      # Accessing last element of the 2nd dim"
      ],
      "execution_count": null,
      "outputs": []
    },
    {
      "cell_type": "markdown",
      "metadata": {
        "id": "wkf8IGWhqyur"
      },
      "source": [
        "\n",
        "\n",
        "---\n",
        "\n"
      ]
    },
    {
      "cell_type": "markdown",
      "metadata": {
        "id": "8qqOpqJCqz1Y"
      },
      "source": [
        "### **Array Slicing**"
      ]
    },
    {
      "cell_type": "markdown",
      "metadata": {
        "id": "ki0lakQRq3aZ"
      },
      "source": [
        "We can also slice ndarray. It is similiar to regular slicing."
      ]
    },
    {
      "cell_type": "markdown",
      "metadata": {
        "id": "85dIhH8-rfHL"
      },
      "source": [
        "Syntax of slicing array is-> arr [ start : end : step(optional) ]"
      ]
    },
    {
      "cell_type": "code",
      "metadata": {
        "colab": {
          "base_uri": "https://localhost:8080/"
        },
        "id": "o-55ek10rMuh",
        "outputId": "3dbe12e7-6616-43f1-dd01-e361195f2825"
      },
      "source": [
        "# Array slicing\n",
        "\n",
        "import numpy as np\n",
        "\n",
        "arr = np.array([1, 2, 3, 4, 5, 6, 7])\n",
        "\n",
        "print(arr[1:5])                          # arr[1:5] means we are starting from index 1 and we will go upto index 4\n",
        "\n"
      ],
      "execution_count": null,
      "outputs": [
        {
          "output_type": "stream",
          "text": [
            "[2 3 4 5]\n"
          ],
          "name": "stdout"
        }
      ]
    },
    {
      "cell_type": "markdown",
      "metadata": {
        "id": "pzY8Sg9ZsfS1"
      },
      "source": [
        "\n",
        "\n",
        "---\n",
        "\n"
      ]
    },
    {
      "cell_type": "markdown",
      "metadata": {
        "id": "UUHkhf4Qsgje"
      },
      "source": [
        "### **Numpy Datatypes**"
      ]
    },
    {
      "cell_type": "markdown",
      "metadata": {
        "id": "66Ty--bysj9k"
      },
      "source": [
        "Numpy has a lots of datatypes. The list is given below-"
      ]
    },
    {
      "cell_type": "markdown",
      "metadata": {
        "id": "sKGHQdDbs33e"
      },
      "source": [
        "i -> integer"
      ]
    },
    {
      "cell_type": "markdown",
      "metadata": {
        "id": "H2VV8vuRs8eX"
      },
      "source": [
        "b -> boolean\n"
      ]
    },
    {
      "cell_type": "markdown",
      "metadata": {
        "id": "GncnaPkotrNP"
      },
      "source": [
        "u -> unsigned integer\n"
      ]
    },
    {
      "cell_type": "markdown",
      "metadata": {
        "id": "VQ5qX_Wwtto2"
      },
      "source": [
        "f -> float\n"
      ]
    },
    {
      "cell_type": "markdown",
      "metadata": {
        "id": "86PvHSUft0hV"
      },
      "source": [
        "c -> complex float\n"
      ]
    },
    {
      "cell_type": "markdown",
      "metadata": {
        "id": "pjNqllWit2Bd"
      },
      "source": [
        "m -> timedelta\n"
      ]
    },
    {
      "cell_type": "markdown",
      "metadata": {
        "id": "ZQDWAwnKt3zu"
      },
      "source": [
        "M -> datetime\n"
      ]
    },
    {
      "cell_type": "markdown",
      "metadata": {
        "id": "z0_3x8xZt5j-"
      },
      "source": [
        "O -> object\n"
      ]
    },
    {
      "cell_type": "markdown",
      "metadata": {
        "id": "6bID-tcUt7bO"
      },
      "source": [
        "S -> string\n"
      ]
    },
    {
      "cell_type": "markdown",
      "metadata": {
        "id": "4fTeFRpDt8qG"
      },
      "source": [
        "U -> unicode string\n"
      ]
    },
    {
      "cell_type": "markdown",
      "metadata": {
        "id": "b8Ls9-H-t-aX"
      },
      "source": [
        "V -> fixed chunk of memory for other type ( void )"
      ]
    },
    {
      "cell_type": "markdown",
      "metadata": {
        "id": "JyMx-d9buD4b"
      },
      "source": [
        "### **Checking of Array Datatype**:"
      ]
    },
    {
      "cell_type": "markdown",
      "metadata": {
        "id": "1V_B_0SJuJMs"
      },
      "source": [
        "We can know the datatype of the array using the property dtype."
      ]
    },
    {
      "cell_type": "code",
      "metadata": {
        "colab": {
          "base_uri": "https://localhost:8080/"
        },
        "id": "MVyokk7EovVc",
        "outputId": "3c354c14-e58b-40e3-c487-661024d63302"
      },
      "source": [
        "import numpy as np\n",
        "\n",
        "arr = np.array(['apple', 'banana', 'cherry'])\n",
        "\n",
        "print(arr.dtype)"
      ],
      "execution_count": null,
      "outputs": [
        {
          "output_type": "stream",
          "text": [
            "<U6\n"
          ],
          "name": "stdout"
        }
      ]
    },
    {
      "cell_type": "markdown",
      "metadata": {
        "id": "F5qyAykup4XI"
      },
      "source": [
        "### **Creating Arrays With a Defined Data Type**"
      ]
    },
    {
      "cell_type": "markdown",
      "metadata": {
        "id": "c3ZnXOfXqDHk"
      },
      "source": [
        "We use the array() function to create arrays, this function can take an optional argument: dtype that allows us to define the expected data type of the array elements."
      ]
    },
    {
      "cell_type": "code",
      "metadata": {
        "colab": {
          "base_uri": "https://localhost:8080/"
        },
        "id": "QHyag6Rao10y",
        "outputId": "087f8380-94ef-49eb-cb38-71dbbac9329d"
      },
      "source": [
        "import numpy as np\n",
        "\n",
        "arr = np.array([1, 2, 3, 4], dtype='S')         # Datatype is defined as string\n",
        "\n",
        "print(arr)\n",
        "print(arr.dtype)"
      ],
      "execution_count": null,
      "outputs": [
        {
          "output_type": "stream",
          "text": [
            "[b'1' b'2' b'3' b'4']\n",
            "|S1\n"
          ],
          "name": "stdout"
        }
      ]
    },
    {
      "cell_type": "markdown",
      "metadata": {
        "id": "AFv9b_3mqfIY"
      },
      "source": [
        "For i, u, f, S, and U we can define size as well."
      ]
    },
    {
      "cell_type": "code",
      "metadata": {
        "colab": {
          "base_uri": "https://localhost:8080/"
        },
        "id": "cvDNC48fqsZP",
        "outputId": "b2bcfc8b-44d5-4359-de64-35df8a69d5ca"
      },
      "source": [
        "import numpy as np\n",
        "\n",
        "arr = np.array([1, 2, 3, 4], dtype='i4')        # array with data type 4 bytes integer\n",
        "\n",
        "print(arr)\n",
        "print(arr.dtype)"
      ],
      "execution_count": null,
      "outputs": [
        {
          "output_type": "stream",
          "text": [
            "[1 2 3 4]\n",
            "int32\n"
          ],
          "name": "stdout"
        }
      ]
    },
    {
      "cell_type": "markdown",
      "metadata": {
        "id": "5nhpqj4Xq-G-"
      },
      "source": [
        "### **Converting Data Type on Existing Arrays**"
      ]
    },
    {
      "cell_type": "markdown",
      "metadata": {
        "id": "TWoO2_YBrloB"
      },
      "source": [
        "By using astype() function we can create a copy of the array, and allows us to specify the data type as a parameter. For example, we can define the datatype integer by writing int or 'i', and for floating point numbers float or 'f'."
      ]
    },
    {
      "cell_type": "code",
      "metadata": {
        "colab": {
          "base_uri": "https://localhost:8080/"
        },
        "id": "LOQIoMQPrAS3",
        "outputId": "6c3eff4f-a1ea-44c2-ab9b-9b7117644197"
      },
      "source": [
        "import numpy as np\n",
        "\n",
        "arr = np.array([1.1, 2.1, 3.1])      # Array consisting floating point numbers\n",
        "\n",
        "newarr = arr.astype(int)             # new array created which is the copy of arr but having integer values of the corresponding elements in arr\n",
        "\n",
        "print(newarr)\n",
        "print(newarr.dtype)"
      ],
      "execution_count": null,
      "outputs": [
        {
          "output_type": "stream",
          "text": [
            "[1 2 3]\n",
            "int64\n"
          ],
          "name": "stdout"
        }
      ]
    },
    {
      "cell_type": "code",
      "metadata": {
        "colab": {
          "base_uri": "https://localhost:8080/"
        },
        "id": "FPqFnBkOsnee",
        "outputId": "dc6f981f-fce1-4f6f-c548-5a9d2422774e"
      },
      "source": [
        "import numpy as np\n",
        "\n",
        "arr = np.array([1, 0, 3, 0, 999])\n",
        "\n",
        "newarr = arr.astype(bool)               # we can also convert integer to boolean\n",
        "\n",
        "print(newarr)\n",
        "print(newarr.dtype)"
      ],
      "execution_count": null,
      "outputs": [
        {
          "output_type": "stream",
          "text": [
            "[ True False  True False  True]\n",
            "bool\n"
          ],
          "name": "stdout"
        }
      ]
    },
    {
      "cell_type": "markdown",
      "metadata": {
        "id": "C0t81GHatKfc"
      },
      "source": [
        "\n",
        "\n",
        "---\n",
        "\n"
      ]
    },
    {
      "cell_type": "markdown",
      "metadata": {
        "id": "HwpBNsBBtMGv"
      },
      "source": [
        "### **Comparing Speed of Numpy Arrays and Lists**"
      ]
    },
    {
      "cell_type": "markdown",
      "metadata": {
        "id": "5w7HrgAYTlIr"
      },
      "source": [
        "Numpy arrays are 5-100 times faster than python lists."
      ]
    },
    {
      "cell_type": "code",
      "metadata": {
        "colab": {
          "base_uri": "https://localhost:8080/"
        },
        "id": "seI4YvAfU2MN",
        "outputId": "727abe19-dedf-4410-c2a0-c901338f2127"
      },
      "source": [
        "import time                               # Time module\n",
        "\n",
        "py_list=[i for i in range(10000000)]      # Python list --> [0,1,2,3,.....,9999999]\n",
        "\n",
        "start=time.time()                         # starting time\n",
        "py_list=[i+100 for i in py_list]          # iterating over python list through a for loop and adding 100 with each element\n",
        "end=time.time()                           # ending time\n",
        "\n",
        "elapsed_time=end-start                    # total time taken to complete the work (for loop iteration)\n",
        "\n",
        "print(round(elapsed_time,6))              # printing the time elapsed upto 6 digit precision"
      ],
      "execution_count": null,
      "outputs": [
        {
          "output_type": "stream",
          "text": [
            "0.641966\n"
          ],
          "name": "stdout"
        }
      ]
    },
    {
      "cell_type": "code",
      "metadata": {
        "colab": {
          "base_uri": "https://localhost:8080/"
        },
        "id": "k-S9I9mhbRg6",
        "outputId": "8a8f6691-e3aa-45ad-b889-0c5688c877b1"
      },
      "source": [
        "import time\n",
        "import numpy as np\n",
        "\n",
        "np_arr=np.array([i for i in range(10000000)])     # numpy array\n",
        "\n",
        "start=time.time()\n",
        "np_arr+=100                                       # adding 100 with each element in rthe array\n",
        "end=time.time()\n",
        "\n",
        "elapsed_time=end-start\n",
        "\n",
        "print(round(elapsed_time,6))"
      ],
      "execution_count": null,
      "outputs": [
        {
          "output_type": "stream",
          "text": [
            "0.006083\n"
          ],
          "name": "stdout"
        }
      ]
    },
    {
      "cell_type": "markdown",
      "metadata": {
        "id": "csyQQ5-Ndudr"
      },
      "source": [
        "From the above experiment you can see that numpy is 105.534 times (0.641966 / 0.006083) faster than python list. "
      ]
    },
    {
      "cell_type": "markdown",
      "metadata": {
        "id": "_eu8f_bbgkIN"
      },
      "source": [
        "The reason for Numpy arrays being faster is -"
      ]
    },
    {
      "cell_type": "markdown",
      "metadata": {
        "id": "xiOcE9mxgsmV"
      },
      "source": [
        "* Numpy array is a collection of similar data-types that are densely packed in memory. A Python list can have different data-types, which puts lots of extra constraints while doing computation on it.\n",
        "* Numpy is able to divide a task into multiple subtasks and process them parallelly.\n",
        "* Numpy functions are implemented in C. Which again makes it faster compared to Python Lists.\n",
        "\n"
      ]
    },
    {
      "cell_type": "markdown",
      "metadata": {
        "id": "RfkjL1DdhEYy"
      },
      "source": [
        "\n",
        "\n",
        "---\n",
        "\n"
      ]
    },
    {
      "cell_type": "markdown",
      "metadata": {
        "id": "iSlhOhh2k1va"
      },
      "source": [
        "\n",
        "\n",
        "---\n",
        "\n"
      ]
    },
    {
      "cell_type": "markdown",
      "metadata": {
        "id": "1SJ2nl9dhFWf"
      },
      "source": [
        "### **Numpy Basic Operations**"
      ]
    },
    {
      "cell_type": "markdown",
      "metadata": {
        "id": "NRZzKUoyjwXW"
      },
      "source": [
        "*   Addition, Subtraction, Multiplication, Division :"
      ]
    },
    {
      "cell_type": "markdown",
      "metadata": {
        "id": "86BZlzCO8YLR"
      },
      "source": [
        "To add two ndarrays we need to use + operator. Similarly for subtraction, multiplication, division we will use -, *, / operator respectively."
      ]
    },
    {
      "cell_type": "code",
      "metadata": {
        "colab": {
          "base_uri": "https://localhost:8080/"
        },
        "id": "J6L-DqTU5F8x",
        "outputId": "592c6f1d-f057-4f5f-c188-d8b102f1c52e"
      },
      "source": [
        "import numpy as np\n",
        "\n",
        "a=np.array([1,2,3])\n",
        "b=np.array([4,5,6])\n",
        "\n",
        "add=a+b     # Addition\n",
        "sub=a-b     #Subtraction\n",
        "mul=a*b     #Multiplication\n",
        "div=a/b     #Division\n",
        "\n",
        "print(\"Addition matrix : \",add)\n",
        "print(\"Subtraction matrix : \",sub)\n",
        "print(\"Multiplication matrix : \",mul)\n",
        "print(\"Division matrix : \",div)"
      ],
      "execution_count": null,
      "outputs": [
        {
          "output_type": "stream",
          "text": [
            "Addition matrix :  [5 7 9]\n",
            "Subtraction matrix :  [-3 -3 -3]\n",
            "Multiplication matrix :  [ 4 10 18]\n",
            "Division matrix :  [0.25 0.4  0.5 ]\n"
          ],
          "name": "stdout"
        }
      ]
    },
    {
      "cell_type": "markdown",
      "metadata": {
        "id": "FNcekDg6_CpX"
      },
      "source": [
        "* Sum:\n"
      ]
    },
    {
      "cell_type": "markdown",
      "metadata": {
        "id": "wYOw3ejiAjxC"
      },
      "source": [
        "We can get the summation of the array elements using sum() function."
      ]
    },
    {
      "cell_type": "code",
      "metadata": {
        "colab": {
          "base_uri": "https://localhost:8080/"
        },
        "id": "JD0OiAxmA0np",
        "outputId": "7d1081ba-dddb-4726-b392-308210e35db6"
      },
      "source": [
        "import numpy as np\n",
        "\n",
        "arr=np.array([ 1, 2, 3, 4, 5])\n",
        "\n",
        "summ = arr.sum()                  # Storing the summation of the array elements\n",
        "\n",
        "print(summ)"
      ],
      "execution_count": null,
      "outputs": [
        {
          "output_type": "stream",
          "text": [
            "15\n"
          ],
          "name": "stdout"
        }
      ]
    },
    {
      "cell_type": "markdown",
      "metadata": {
        "id": "KX8obXCZB30U"
      },
      "source": [
        "We can sum over the axis of rows with axis=0 and over columns with axis=1."
      ]
    },
    {
      "cell_type": "code",
      "metadata": {
        "colab": {
          "base_uri": "https://localhost:8080/"
        },
        "id": "dDFml1QfCT0m",
        "outputId": "280994be-9e8c-4e26-f3d4-6a1b381738b4"
      },
      "source": [
        "import numpy as np\n",
        "\n",
        "arr = np.array([[1,2],[3,4]])\n",
        "\n",
        "# Printing the 2-D array\n",
        "print(arr)\n",
        "\n",
        "# Printing the sum over the axis of rows\n",
        "print(arr.sum(axis=0))\n",
        "\n",
        "# Printing the sum over the axis of columns\n",
        "print(arr.sum(axis=1))"
      ],
      "execution_count": null,
      "outputs": [
        {
          "output_type": "stream",
          "text": [
            "[[1 2]\n",
            " [3 4]]\n",
            "[4 6]\n",
            "[3 7]\n"
          ],
          "name": "stdout"
        }
      ]
    },
    {
      "cell_type": "markdown",
      "metadata": {
        "id": "dkOSi4cEDp-e"
      },
      "source": [
        "* Maximum and Minimum:"
      ]
    },
    {
      "cell_type": "markdown",
      "metadata": {
        "id": "et3Z2OX-D1k_"
      },
      "source": [
        "For evaluating maximum and minimum we use max() and min() functions."
      ]
    },
    {
      "cell_type": "code",
      "metadata": {
        "colab": {
          "base_uri": "https://localhost:8080/"
        },
        "id": "FEkvOwLAE7EM",
        "outputId": "ae58ed16-bb80-4a17-f82b-9bfc799aebd1"
      },
      "source": [
        "import numpy as np\n",
        "\n",
        "arr = np.array([1,2,654,12,35,0,-302])\n",
        "\n",
        "# Minimum\n",
        "minimum=arr.min()\n",
        "print(\"Minimum : \",minimum)\n",
        "\n",
        "# Maximum\n",
        "maximum=arr.max()\n",
        "print(\"Maximum : \",maximum)"
      ],
      "execution_count": null,
      "outputs": [
        {
          "output_type": "stream",
          "text": [
            "Minimum :  -302\n",
            "Maximum :  654\n"
          ],
          "name": "stdout"
        }
      ]
    },
    {
      "cell_type": "markdown",
      "metadata": {
        "id": "DhucwwW0GSYU"
      },
      "source": [
        "* Exponential and Logarithmic operation:"
      ]
    },
    {
      "cell_type": "markdown",
      "metadata": {
        "id": "kNB_6_CiGeEl"
      },
      "source": [
        "we can use exp() and log() function for exponential and logarithmic operation."
      ]
    },
    {
      "cell_type": "code",
      "metadata": {
        "colab": {
          "base_uri": "https://localhost:8080/"
        },
        "id": "gpA2X5hBHPJP",
        "outputId": "ccd3fa62-f8c5-41b6-d450-aed5bb5856aa"
      },
      "source": [
        "import numpy as np\n",
        "\n",
        "arr=np.array([1, 2, 3, 4, 5])\n",
        "\n",
        "# Exponent\n",
        "b= np.exp(arr)\n",
        "print(\"Exponent : \",b)\n",
        "\n",
        "#Logarithm\n",
        "c=np.log(arr)\n",
        "print(\"Logarithm : \",c)"
      ],
      "execution_count": null,
      "outputs": [
        {
          "output_type": "stream",
          "text": [
            "Exponent :  [  2.71828183   7.3890561   20.08553692  54.59815003 148.4131591 ]\n",
            "Logarithm :  [0.         0.69314718 1.09861229 1.38629436 1.60943791]\n"
          ],
          "name": "stdout"
        }
      ]
    },
    {
      "cell_type": "markdown",
      "metadata": {
        "id": "eMNXLAqOH4a2"
      },
      "source": [
        "\n",
        "\n",
        "---\n",
        "\n"
      ]
    },
    {
      "cell_type": "markdown",
      "metadata": {
        "id": "kXmD4s9gH8SH"
      },
      "source": [
        "### **List Comprehension**"
      ]
    },
    {
      "cell_type": "markdown",
      "metadata": {
        "id": "xz_QdvlpIEPS"
      },
      "source": [
        "List comprehensions are used for creating new lists from other iterables like tuples, strings, arrays, lists, etc.\n",
        "\n",
        "Syntax :\n",
        "\n",
        "ListName = [ expression(element) for element in oldList if condition ]"
      ]
    },
    {
      "cell_type": "markdown",
      "metadata": {
        "id": "luotVATLMlwN"
      },
      "source": [
        "Advantages:\n",
        "\n",
        "* More time efficient and space efficient than loops.\n",
        "* Require fewer lines of code.\n",
        "* This is faster method."
      ]
    },
    {
      "cell_type": "code",
      "metadata": {
        "colab": {
          "base_uri": "https://localhost:8080/"
        },
        "id": "eXY_fp5cMhds",
        "outputId": "dd2548c6-448b-45d0-d3dd-e112c1da8a67"
      },
      "source": [
        "#List Comprehension\n",
        "List_1=[i for i in range(20)]\n",
        "List_2=[j for j in \"Hello World!\"]\n",
        "List_3=[k for k in (15,35,60,26,37,18)]\n",
        "\n",
        "print(List_1)\n",
        "print(List_2)\n",
        "print(List_3)"
      ],
      "execution_count": 2,
      "outputs": [
        {
          "output_type": "stream",
          "text": [
            "[0, 1, 2, 3, 4, 5, 6, 7, 8, 9, 10, 11, 12, 13, 14, 15, 16, 17, 18, 19]\n",
            "['H', 'e', 'l', 'l', 'o', ' ', 'W', 'o', 'r', 'l', 'd', '!']\n",
            "[15, 35, 60, 26, 37, 18]\n"
          ],
          "name": "stdout"
        }
      ]
    },
    {
      "cell_type": "markdown",
      "metadata": {
        "id": "44_VpxUpOjao"
      },
      "source": [
        "\n",
        "\n",
        "---\n",
        "\n"
      ]
    },
    {
      "cell_type": "markdown",
      "metadata": {
        "id": "ao5Too9NOruy"
      },
      "source": [
        " "
      ]
    }
  ]
}